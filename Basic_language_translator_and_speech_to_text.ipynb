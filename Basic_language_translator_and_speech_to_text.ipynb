{
  "nbformat": 4,
  "nbformat_minor": 0,
  "metadata": {
    "colab": {
      "name": "Basic language translator and speech to text.ipynb",
      "provenance": [],
      "collapsed_sections": [],
      "authorship_tag": "ABX9TyM+G13N4oMwtViFjBxUFRqA",
      "include_colab_link": true
    },
    "kernelspec": {
      "name": "python3",
      "display_name": "Python 3"
    },
    "language_info": {
      "name": "python"
    }
  },
  "cells": [
    {
      "cell_type": "markdown",
      "metadata": {
        "id": "view-in-github",
        "colab_type": "text"
      },
      "source": [
        "<a href=\"https://colab.research.google.com/github/vy-phung/IBM-Watson-Studio/blob/master/Basic_language_translator_and_speech_to_text.ipynb\" target=\"_parent\"><img src=\"https://colab.research.google.com/assets/colab-badge.svg\" alt=\"Open In Colab\"/></a>"
      ]
    },
    {
      "cell_type": "markdown",
      "metadata": {
        "id": "GUjc0xDLdNQH"
      },
      "source": [
        "# **Language translator and Speech to text**"
      ]
    },
    {
      "cell_type": "markdown",
      "metadata": {
        "id": "exq0Fm__BTZw"
      },
      "source": [
        "This is just a basic language translator, translating from one language to another language and a speech to text, converting a speech to a text.   \n",
        "\n",
        "1. For the speech to text, I will download a standup comedy speech on Youtube ('How The British Took Over India' - TREVOR NOAH) https://youtu.be/QhMO5SSmiaA\n",
        "2. For the language translator, I will use 3 options to translate: \n",
        "*   Typing (You have to type directly) \n",
        "*   A file (a file you've already had in your path) (in this example, I use *.txt file)\n",
        "*   Using a text from the above speech to text section\n",
        "\n",
        "About the APIKEY and URL for both Language translator and Speech to text, I take them from my IBM Watson Studio account. Actually, I feel ok if you intend to use them for the purpose of learning. \n",
        "\n",
        "***All of them are done in Google Colab.*** \n",
        "\n",
        "\n",
        "\n",
        "\n"
      ]
    },
    {
      "cell_type": "markdown",
      "metadata": {
        "id": "zIgLceau5k7_"
      },
      "source": [
        "**AUTHENTICATE**"
      ]
    },
    {
      "cell_type": "code",
      "metadata": {
        "id": "fIJYJvwADv4_",
        "colab": {
          "base_uri": "https://localhost:8080/"
        },
        "outputId": "608509eb-6910-4f5c-adc9-5445aff4731c"
      },
      "source": [
        "! pip install --upgrade \"ibm-watson>=4.2.1\"  "
      ],
      "execution_count": 1,
      "outputs": [
        {
          "output_type": "stream",
          "name": "stdout",
          "text": [
            "Collecting ibm-watson>=4.2.1\n",
            "  Downloading ibm-watson-5.3.0.tar.gz (412 kB)\n",
            "\u001b[?25l\r\u001b[K     |▉                               | 10 kB 23.4 MB/s eta 0:00:01\r\u001b[K     |█▋                              | 20 kB 26.2 MB/s eta 0:00:01\r\u001b[K     |██▍                             | 30 kB 17.9 MB/s eta 0:00:01\r\u001b[K     |███▏                            | 40 kB 15.1 MB/s eta 0:00:01\r\u001b[K     |████                            | 51 kB 7.4 MB/s eta 0:00:01\r\u001b[K     |████▊                           | 61 kB 7.1 MB/s eta 0:00:01\r\u001b[K     |█████▋                          | 71 kB 7.4 MB/s eta 0:00:01\r\u001b[K     |██████▍                         | 81 kB 8.2 MB/s eta 0:00:01\r\u001b[K     |███████▏                        | 92 kB 8.8 MB/s eta 0:00:01\r\u001b[K     |████████                        | 102 kB 6.9 MB/s eta 0:00:01\r\u001b[K     |████████▊                       | 112 kB 6.9 MB/s eta 0:00:01\r\u001b[K     |█████████▌                      | 122 kB 6.9 MB/s eta 0:00:01\r\u001b[K     |██████████▎                     | 133 kB 6.9 MB/s eta 0:00:01\r\u001b[K     |███████████▏                    | 143 kB 6.9 MB/s eta 0:00:01\r\u001b[K     |████████████                    | 153 kB 6.9 MB/s eta 0:00:01\r\u001b[K     |████████████▊                   | 163 kB 6.9 MB/s eta 0:00:01\r\u001b[K     |█████████████▌                  | 174 kB 6.9 MB/s eta 0:00:01\r\u001b[K     |██████████████▎                 | 184 kB 6.9 MB/s eta 0:00:01\r\u001b[K     |███████████████                 | 194 kB 6.9 MB/s eta 0:00:01\r\u001b[K     |████████████████                | 204 kB 6.9 MB/s eta 0:00:01\r\u001b[K     |████████████████▊               | 215 kB 6.9 MB/s eta 0:00:01\r\u001b[K     |█████████████████▌              | 225 kB 6.9 MB/s eta 0:00:01\r\u001b[K     |██████████████████▎             | 235 kB 6.9 MB/s eta 0:00:01\r\u001b[K     |███████████████████             | 245 kB 6.9 MB/s eta 0:00:01\r\u001b[K     |███████████████████▉            | 256 kB 6.9 MB/s eta 0:00:01\r\u001b[K     |████████████████████▋           | 266 kB 6.9 MB/s eta 0:00:01\r\u001b[K     |█████████████████████▌          | 276 kB 6.9 MB/s eta 0:00:01\r\u001b[K     |██████████████████████▎         | 286 kB 6.9 MB/s eta 0:00:01\r\u001b[K     |███████████████████████         | 296 kB 6.9 MB/s eta 0:00:01\r\u001b[K     |███████████████████████▉        | 307 kB 6.9 MB/s eta 0:00:01\r\u001b[K     |████████████████████████▋       | 317 kB 6.9 MB/s eta 0:00:01\r\u001b[K     |█████████████████████████▍      | 327 kB 6.9 MB/s eta 0:00:01\r\u001b[K     |██████████████████████████▏     | 337 kB 6.9 MB/s eta 0:00:01\r\u001b[K     |███████████████████████████     | 348 kB 6.9 MB/s eta 0:00:01\r\u001b[K     |███████████████████████████▉    | 358 kB 6.9 MB/s eta 0:00:01\r\u001b[K     |████████████████████████████▋   | 368 kB 6.9 MB/s eta 0:00:01\r\u001b[K     |█████████████████████████████▍  | 378 kB 6.9 MB/s eta 0:00:01\r\u001b[K     |██████████████████████████████▏ | 389 kB 6.9 MB/s eta 0:00:01\r\u001b[K     |███████████████████████████████ | 399 kB 6.9 MB/s eta 0:00:01\r\u001b[K     |███████████████████████████████▉| 409 kB 6.9 MB/s eta 0:00:01\r\u001b[K     |████████████████████████████████| 412 kB 6.9 MB/s \n",
            "\u001b[?25h  Installing build dependencies ... \u001b[?25l\u001b[?25hdone\n",
            "  Getting requirements to build wheel ... \u001b[?25l\u001b[?25hdone\n",
            "    Preparing wheel metadata ... \u001b[?25l\u001b[?25hdone\n",
            "Requirement already satisfied: python-dateutil>=2.5.3 in /usr/local/lib/python3.7/dist-packages (from ibm-watson>=4.2.1) (2.8.2)\n",
            "Collecting websocket-client==1.1.0\n",
            "  Downloading websocket_client-1.1.0-py2.py3-none-any.whl (68 kB)\n",
            "\u001b[K     |████████████████████████████████| 68 kB 4.6 MB/s \n",
            "\u001b[?25hCollecting ibm-cloud-sdk-core==3.*,>=3.3.6\n",
            "  Downloading ibm-cloud-sdk-core-3.13.2.tar.gz (49 kB)\n",
            "\u001b[K     |████████████████████████████████| 49 kB 6.0 MB/s \n",
            "\u001b[?25hRequirement already satisfied: requests<3.0,>=2.0 in /usr/local/lib/python3.7/dist-packages (from ibm-watson>=4.2.1) (2.23.0)\n",
            "Collecting requests<3.0,>=2.0\n",
            "  Downloading requests-2.26.0-py2.py3-none-any.whl (62 kB)\n",
            "\u001b[K     |████████████████████████████████| 62 kB 911 kB/s \n",
            "\u001b[?25hCollecting urllib3<2.0.0,>=1.26.0\n",
            "  Downloading urllib3-1.26.7-py2.py3-none-any.whl (138 kB)\n",
            "\u001b[K     |████████████████████████████████| 138 kB 51.3 MB/s \n",
            "\u001b[?25hCollecting PyJWT<3.0.0,>=2.0.1\n",
            "  Downloading PyJWT-2.3.0-py3-none-any.whl (16 kB)\n",
            "Requirement already satisfied: six>=1.5 in /usr/local/lib/python3.7/dist-packages (from python-dateutil>=2.5.3->ibm-watson>=4.2.1) (1.15.0)\n",
            "Requirement already satisfied: certifi>=2017.4.17 in /usr/local/lib/python3.7/dist-packages (from requests<3.0,>=2.0->ibm-watson>=4.2.1) (2021.10.8)\n",
            "Requirement already satisfied: idna<4,>=2.5 in /usr/local/lib/python3.7/dist-packages (from requests<3.0,>=2.0->ibm-watson>=4.2.1) (2.10)\n",
            "Requirement already satisfied: charset-normalizer~=2.0.0 in /usr/local/lib/python3.7/dist-packages (from requests<3.0,>=2.0->ibm-watson>=4.2.1) (2.0.8)\n",
            "Building wheels for collected packages: ibm-watson, ibm-cloud-sdk-core\n",
            "  Building wheel for ibm-watson (PEP 517) ... \u001b[?25l\u001b[?25hdone\n",
            "  Created wheel for ibm-watson: filename=ibm_watson-5.3.0-py3-none-any.whl size=408872 sha256=0478e65b32ada3dc75e57a6ecd7ae46ab1b7fdd73eb1e1e711a3f2b89d314a81\n",
            "  Stored in directory: /root/.cache/pip/wheels/21/d9/82/4ce5b94730bc4f1f7b4c6384f72964b9b8f79fcc125bb8085c\n",
            "  Building wheel for ibm-cloud-sdk-core (setup.py) ... \u001b[?25l\u001b[?25hdone\n",
            "  Created wheel for ibm-cloud-sdk-core: filename=ibm_cloud_sdk_core-3.13.2-py3-none-any.whl size=83241 sha256=37b6f11c0e51a59df0e9eba613f74c50a77ef3354c78a408e3d9be54cc6489fe\n",
            "  Stored in directory: /root/.cache/pip/wheels/f0/0d/5c/0c26fcc2db712e8d270e52f7c9f6d8abe33ca79ec29438aa14\n",
            "Successfully built ibm-watson ibm-cloud-sdk-core\n",
            "Installing collected packages: urllib3, requests, PyJWT, websocket-client, ibm-cloud-sdk-core, ibm-watson\n",
            "  Attempting uninstall: urllib3\n",
            "    Found existing installation: urllib3 1.24.3\n",
            "    Uninstalling urllib3-1.24.3:\n",
            "      Successfully uninstalled urllib3-1.24.3\n",
            "  Attempting uninstall: requests\n",
            "    Found existing installation: requests 2.23.0\n",
            "    Uninstalling requests-2.23.0:\n",
            "      Successfully uninstalled requests-2.23.0\n",
            "\u001b[31mERROR: pip's dependency resolver does not currently take into account all the packages that are installed. This behaviour is the source of the following dependency conflicts.\n",
            "google-colab 1.0.0 requires requests~=2.23.0, but you have requests 2.26.0 which is incompatible.\n",
            "datascience 0.10.6 requires folium==0.2.1, but you have folium 0.8.3 which is incompatible.\u001b[0m\n",
            "Successfully installed PyJWT-2.3.0 ibm-cloud-sdk-core-3.13.2 ibm-watson-5.3.0 requests-2.26.0 urllib3-1.26.7 websocket-client-1.1.0\n"
          ]
        }
      ]
    },
    {
      "cell_type": "code",
      "metadata": {
        "id": "rXwM8IqL6kIz"
      },
      "source": [
        "from ibm_watson import LanguageTranslatorV3, SpeechToTextV1 \n",
        "from ibm_cloud_sdk_core.authenticators import IAMAuthenticator"
      ],
      "execution_count": 2,
      "outputs": []
    },
    {
      "cell_type": "code",
      "metadata": {
        "id": "Ni7Swf0d5uql"
      },
      "source": [
        "ltapikey = \"p9nTUgusELZe1dNWLQwDjbg2EAzqlQJNYF-XyW608xeF\"\n",
        "lturl = \"https://api.us-south.language-translator.watson.cloud.ibm.com/instances/df06279e-fc78-4863-aeef-a809865bfdfe\"\n",
        "sttapikey = \"O43QI28AeQ-qtV9hdsvj8QVSAUX1q8bhoh3Xf5Vr3pPr\"\n",
        "stturl = \"https://api.us-south.speech-to-text.watson.cloud.ibm.com/instances/7252e247-f575-456d-a86e-431c2622d39e\""
      ],
      "execution_count": 3,
      "outputs": []
    },
    {
      "cell_type": "code",
      "metadata": {
        "id": "s2k9BIJ6YJr9"
      },
      "source": [
        "# Language Translator\n",
        "ltauthenticator = IAMAuthenticator(ltapikey)\n",
        "language_translator = LanguageTranslatorV3(\n",
        "    version='2018-05-01',\n",
        "    authenticator=ltauthenticator\n",
        ")\n",
        "\n",
        "language_translator.set_service_url(lturl)\n",
        "# Speech To Text\n",
        "sttauthenticator = IAMAuthenticator(sttapikey)\n",
        "SpeechToText = SpeechToTextV1(\n",
        "    authenticator=sttauthenticator\n",
        ")\n",
        "\n",
        "SpeechToText.set_service_url(stturl)\n"
      ],
      "execution_count": 4,
      "outputs": []
    },
    {
      "cell_type": "markdown",
      "metadata": {
        "id": "w3JtBmpY6YX4"
      },
      "source": [
        "**Speech to Text**"
      ]
    },
    {
      "cell_type": "markdown",
      "metadata": {
        "id": "Vs5GyPygFyMB"
      },
      "source": [
        "In this case, because I use audio/mp3 to run SpeechToText, I will have to convert the youtube speech to mp3 file.\n",
        "\n",
        "I use the code and instruction from \"https://github.com/silvanohirtie/youtube-mp3-downloader.git\" to convert. "
      ]
    },
    {
      "cell_type": "code",
      "metadata": {
        "colab": {
          "base_uri": "https://localhost:8080/"
        },
        "id": "Wgy6E6L1HnF7",
        "outputId": "3375d5d7-88b6-4219-fa74-afd33e0bbace"
      },
      "source": [
        "pip install youtube-dl"
      ],
      "execution_count": 5,
      "outputs": [
        {
          "output_type": "stream",
          "name": "stdout",
          "text": [
            "Collecting youtube-dl\n",
            "  Downloading youtube_dl-2021.12.17-py2.py3-none-any.whl (1.9 MB)\n",
            "\u001b[K     |████████████████████████████████| 1.9 MB 7.7 MB/s \n",
            "\u001b[?25hInstalling collected packages: youtube-dl\n",
            "Successfully installed youtube-dl-2021.12.17\n"
          ]
        }
      ]
    },
    {
      "cell_type": "code",
      "metadata": {
        "colab": {
          "base_uri": "https://localhost:8080/"
        },
        "id": "D1BbSyGMa3Xb",
        "outputId": "261a4ab0-be9c-400c-8a65-6e8e43059a4b"
      },
      "source": [
        "from __future__ import unicode_literals\n",
        "import youtube_dl\n",
        "print(\"Insert the link\")\n",
        "link = input (\"\")\n",
        "ydl_opts = {\n",
        "    'format': 'bestaudio/best',\n",
        "    'postprocessors': [{\n",
        "        'key': 'FFmpegExtractAudio',\n",
        "        'preferredcodec': 'mp3',\n",
        "        'preferredquality': '320',\n",
        "    }],\n",
        "}\n",
        "with youtube_dl.YoutubeDL(ydl_opts) as ydl:\n",
        "    ydl.download([link])"
      ],
      "execution_count": 6,
      "outputs": [
        {
          "output_type": "stream",
          "name": "stdout",
          "text": [
            "Insert the link\n",
            "https://youtu.be/QhMO5SSmiaA\n",
            "[youtube] QhMO5SSmiaA: Downloading webpage\n",
            "[download] Destination: 'How The British Took Over India' - TREVOR NOAH (from 'Afraid Of The Dark' on Netflix)-QhMO5SSmiaA.m4a\n",
            "[download] 100% of 5.41MiB in 01:14\n",
            "[ffmpeg] Correcting container in \"'How The British Took Over India' - TREVOR NOAH (from 'Afraid Of The Dark' on Netflix)-QhMO5SSmiaA.m4a\"\n",
            "[ffmpeg] Destination: 'How The British Took Over India' - TREVOR NOAH (from 'Afraid Of The Dark' on Netflix)-QhMO5SSmiaA.mp3\n",
            "Deleting original file 'How The British Took Over India' - TREVOR NOAH (from 'Afraid Of The Dark' on Netflix)-QhMO5SSmiaA.m4a (pass -k to keep)\n"
          ]
        }
      ]
    },
    {
      "cell_type": "code",
      "metadata": {
        "id": "pmThE0rucmH8",
        "colab": {
          "base_uri": "https://localhost:8080/"
        },
        "outputId": "ecf35f05-ccad-421b-bfa5-b00a5013ed06"
      },
      "source": [
        "print('Drop the file path')\n",
        "file = input(\"\")\n",
        "with open(file, 'rb') as f:\n",
        "  res = SpeechToText.recognize(audio=f,content_type='audio/mp3', model='en-US_NarrowbandModel').get_result()"
      ],
      "execution_count": 7,
      "outputs": [
        {
          "name": "stdout",
          "output_type": "stream",
          "text": [
            "Drop the file path\n",
            "/content/'How The British Took Over India' - TREVOR NOAH (from 'Afraid Of The Dark' on Netflix)-QhMO5SSmiaA.mp3\n"
          ]
        }
      ]
    },
    {
      "cell_type": "code",
      "metadata": {
        "id": "Op4E1X91ONBx",
        "colab": {
          "base_uri": "https://localhost:8080/"
        },
        "outputId": "e5ab8022-cf6d-4142-b832-c629d650fc93"
      },
      "source": [
        "res"
      ],
      "execution_count": 8,
      "outputs": [
        {
          "output_type": "execute_result",
          "data": {
            "text/plain": [
              "{'result_index': 0,\n",
              " 'results': [{'alternatives': [{'confidence': 0.71,\n",
              "     'transcript': \"when you think about calling I wish it was the strangest thing you can think about because concrete is one thing you go to another country you take what today is you want more you take the land you know you you take the resources you you kill the people that I understand but colonization I don't condone I understand \"}],\n",
              "   'final': True},\n",
              "  {'alternatives': [{'confidence': 0.72,\n",
              "     'transcript': \"for calling my vision is strange because you go there and you don't just take over you've been forced the people to be calm you \"}],\n",
              "   'final': True},\n",
              "  {'alternatives': [{'confidence': 0.8,\n",
              "     'transcript': \"that's such a strange concept when you think about where the British did it's I mean they and I didn't and in Africa they you know they did it in in in Asia and India cultures could not be more diametrically opposed \"}],\n",
              "   'final': True},\n",
              "  {'alternatives': [{'confidence': 0.6,\n",
              "     'transcript': \"and I don't know where the bridge is just decide it's rolled up \"}],\n",
              "   'final': True},\n",
              "  {'alternatives': [{'confidence': 0.6,\n",
              "     'transcript': 'Reginald Indians was installed like on that day '}],\n",
              "   'final': True},\n",
              "  {'alternatives': [{'confidence': 0.93,\n",
              "     'transcript': 'minding your own business '}],\n",
              "   'final': True},\n",
              "  {'alternatives': [{'confidence': 0.63,\n",
              "     'transcript': 'walking through a field '}],\n",
              "   'final': True},\n",
              "  {'alternatives': [{'confidence': 0.57,\n",
              "     'transcript': 'next thing you know the British showed up on horseback '}],\n",
              "   'final': True},\n",
              "  {'alternatives': [{'confidence': 0.92, 'transcript': '%HESITATION '}],\n",
              "   'final': True},\n",
              "  {'alternatives': [{'confidence': 0.67, 'transcript': 'yeah '}],\n",
              "   'final': True},\n",
              "  {'alternatives': [{'confidence': 0.81, 'transcript': 'bye well we have a '}],\n",
              "   'final': True},\n",
              "  {'alternatives': [{'confidence': 0.68, 'transcript': 'you '}],\n",
              "   'final': True},\n",
              "  {'alternatives': [{'confidence': 0.93,\n",
              "     'transcript': 'what was the name of '}],\n",
              "   'final': True},\n",
              "  {'alternatives': [{'confidence': 0.44,\n",
              "     'transcript': 'this land over here '}],\n",
              "   'final': True},\n",
              "  {'alternatives': [{'confidence': 0.46,\n",
              "     'transcript': 'this is Gordon yeah '}],\n",
              "   'final': True},\n",
              "  {'alternatives': [{'confidence': 0.7, 'transcript': 'well my god my god '}],\n",
              "   'final': True},\n",
              "  {'alternatives': [{'confidence': 0.42,\n",
              "     'transcript': \"although the British I'm while \"}],\n",
              "   'final': True},\n",
              "  {'alternatives': [{'confidence': 0.83,\n",
              "     'transcript': \"and I'm glad that I can tell you that in there is exactly what it was yesterday \"}],\n",
              "   'final': True},\n",
              "  {'alternatives': [{'confidence': 0.85,\n",
              "     'transcript': \"no no no I feel you're not understanding what I'm saying I'm not \"}],\n",
              "   'final': True},\n",
              "  {'alternatives': [{'confidence': 0.73, 'transcript': 'all of our you '}],\n",
              "   'final': True},\n",
              "  {'alternatives': [{'confidence': 0.9, 'transcript': 'the queen '}],\n",
              "   'final': True},\n",
              "  {'alternatives': [{'confidence': 0.43, 'transcript': \"we've been waiting \"}],\n",
              "   'final': True},\n",
              "  {'alternatives': [{'confidence': 0.58,\n",
              "     'transcript': 'the queen the queen of England the rule %HESITATION great bridge then she wants them to my gods '}],\n",
              "   'final': True},\n",
              "  {'alternatives': [{'confidence': 0.51, 'transcript': 'would you got '}],\n",
              "   'final': True},\n",
              "  {'alternatives': [{'confidence': 0.71, 'transcript': 'the one dog '}],\n",
              "   'final': True},\n",
              "  {'alternatives': [{'confidence': 0.73,\n",
              "     'transcript': 'that many calls my friend what is the name of your dog '}],\n",
              "   'final': True},\n",
              "  {'alternatives': [{'confidence': 0.6,\n",
              "     'transcript': 'there was only one call and his name is gone and you '}],\n",
              "   'final': True},\n",
              "  {'alternatives': [{'confidence': 0.63,\n",
              "     'transcript': \"you want me to worship of god but you don't want to tell me is name \"}],\n",
              "   'final': True},\n",
              "  {'alternatives': [{'confidence': 0.61,\n",
              "     'transcript': \"what are you talking about there a minute boggle gather C. mothers like to me that is not it is not that I'm going to go what is the name of your guards \"}],\n",
              "   'final': True},\n",
              "  {'alternatives': [{'confidence': 0.83, 'transcript': 'his name is '}],\n",
              "   'final': True},\n",
              "  {'alternatives': [{'confidence': 0.86,\n",
              "     'transcript': \"you don't know the name of your book \"}],\n",
              "   'final': True},\n",
              "  {'alternatives': [{'confidence': 0.55, 'transcript': \"it's just calls \"}],\n",
              "   'final': True},\n",
              "  {'alternatives': [{'confidence': 0.59,\n",
              "     'transcript': 'is it like mommy or Daddy '}],\n",
              "   'final': True},\n",
              "  {'alternatives': [{'confidence': 0.62,\n",
              "     'transcript': \"you want me to lecture me about but you don't want me to tell me is name up hi my going today doing what do I do every morning I go to wake up in the guardian guardian but I was hoping that maybe you could have no no no sorry not you either got no no either got no no it's not wrong but what I would like to talk to others no no no you're right I should have October first name no no god no other got please note got beyond that got no no do today but I just got you told me you would know what talking to and I don't know no I don't got please don't go to another no no that's what you're getting on \"}],\n",
              "   'final': True},\n",
              "  {'alternatives': [{'confidence': 0.57,\n",
              "     'transcript': 'can you speak to me like that '}],\n",
              "   'final': True},\n",
              "  {'alternatives': [{'confidence': 0.72, 'transcript': 'do you know '}],\n",
              "   'final': True},\n",
              "  {'alternatives': [{'confidence': 0.85,\n",
              "     'transcript': 'no because you never introduce yourself '}],\n",
              "   'final': True},\n",
              "  {'alternatives': [{'confidence': 0.71,\n",
              "     'transcript': 'I have come here representing Great Britain and I have never %HESITATION upgrades done '}],\n",
              "   'final': True},\n",
              "  {'alternatives': [{'confidence': 0.77,\n",
              "     'transcript': \"we'll give you the name \"}],\n",
              "   'final': True},\n",
              "  {'alternatives': [{'confidence': 0.58,\n",
              "     'transcript': \"whether well well we didn't \"}],\n",
              "   'final': True},\n",
              "  {'alternatives': [{'confidence': 0.38,\n",
              "     'transcript': \"you'll Guardia sounds great \"}],\n",
              "   'final': True},\n",
              "  {'alternatives': [{'confidence': 0.81,\n",
              "     'transcript': \"isn't that a little presumptuous \"}],\n",
              "   'final': True},\n",
              "  {'alternatives': [{'confidence': 0.6,\n",
              "     'transcript': 'Susan do you read for the be able to tell you how great you are '}],\n",
              "   'final': True},\n",
              "  {'alternatives': [{'confidence': 0.66,\n",
              "     'transcript': \"so then you're just going on the work and to do good things good things good things and people go my god with them because they do %HESITATION \"}],\n",
              "   'final': True},\n",
              "  {'alternatives': [{'confidence': 0.78,\n",
              "     'transcript': 'I beg to differ I believe we could do it because we knew instinctively we upgrade '}],\n",
              "   'final': True},\n",
              "  {'alternatives': [{'confidence': 0.49,\n",
              "     'transcript': \"well and that's again welcome to grad NDS \"}],\n",
              "   'final': True},\n",
              "  {'alternatives': [{'confidence': 0.89,\n",
              "     'transcript': \"no no it doesn't it doesn't work like that \"}],\n",
              "   'final': True},\n",
              "  {'alternatives': [{'confidence': 0.69,\n",
              "     'transcript': \"you're the one who dances because me okay I was %HESITATION minding my own business in my love you'll come over here and I do want to make out things are going to \"}],\n",
              "   'final': True},\n",
              "  {'alternatives': [{'confidence': 0.72,\n",
              "     'transcript': \"I don't know who you are all I know what you are really crazy okay you're not feeling too right and I didn't want to say anything but you look like you're going to friends in fact it looks like you have died last week okay something is wrong with your skin you're not looking good my friend maybe your system down we haven't got any talk about this what you talking about I don't know if you do not know the moment my friend I've never seen anybody with a complex in in my life okay \"}],\n",
              "   'final': True},\n",
              "  {'alternatives': [{'confidence': 0.75,\n",
              "     'transcript': \"you look like you're going I don't think with some your entire life I don't know what is happening but that is not all of Boston should look up \"}],\n",
              "   'final': True},\n",
              "  {'alternatives': [{'confidence': 0.68,\n",
              "     'transcript': 'no you know something bumping pumping pumping '}],\n",
              "   'final': True},\n",
              "  {'alternatives': [{'confidence': 0.64,\n",
              "     'transcript': \"not that I don't need a sim machine I just go about this problem you're getting the order no because you're not losing that is all I know \"}],\n",
              "   'final': True},\n",
              "  {'alternatives': [{'confidence': 0.7,\n",
              "     'transcript': \"well we're not going to do anything you've got on your mad mad well you're not back and we're going \"}],\n",
              "   'final': True},\n",
              "  {'alternatives': [{'confidence': 0.66,\n",
              "     'transcript': \"she is all yours they don't play that thank god thanks for watching make sure to subscribe to my channel so you can win prizes and my prices I mean surprise no prizes it's a free YouTube video you greedy just click the video man free things on things \"}],\n",
              "   'final': True}]}"
            ]
          },
          "metadata": {},
          "execution_count": 8
        }
      ]
    },
    {
      "cell_type": "markdown",
      "metadata": {
        "id": "IsBeis_1PXsq"
      },
      "source": [
        "**Language Translator**"
      ]
    },
    {
      "cell_type": "code",
      "metadata": {
        "id": "x47JC84Zc__t"
      },
      "source": [
        "import pandas as pd\n",
        "import numpy as np"
      ],
      "execution_count": 9,
      "outputs": []
    },
    {
      "cell_type": "code",
      "metadata": {
        "colab": {
          "base_uri": "https://localhost:8080/",
          "height": 655
        },
        "id": "mH_56bAJcxCe",
        "outputId": "504c5476-ea1b-4738-ab28-9abf5329d959"
      },
      "source": [
        "language_list = language_translator.list_identifiable_languages().get_result()\n",
        "language = language_list['languages']\n",
        "language = pd.DataFrame(language)\n",
        "language = language.set_index(\"name\")\n",
        "language.index.names = [None]\n",
        "language"
      ],
      "execution_count": 10,
      "outputs": [
        {
          "output_type": "execute_result",
          "data": {
            "text/html": [
              "\n",
              "  <div id=\"df-22947eb4-8260-49b9-9fb7-f0b9b4631056\">\n",
              "    <div class=\"colab-df-container\">\n",
              "      <div>\n",
              "<style scoped>\n",
              "    .dataframe tbody tr th:only-of-type {\n",
              "        vertical-align: middle;\n",
              "    }\n",
              "\n",
              "    .dataframe tbody tr th {\n",
              "        vertical-align: top;\n",
              "    }\n",
              "\n",
              "    .dataframe thead th {\n",
              "        text-align: right;\n",
              "    }\n",
              "</style>\n",
              "<table border=\"1\" class=\"dataframe\">\n",
              "  <thead>\n",
              "    <tr style=\"text-align: right;\">\n",
              "      <th></th>\n",
              "      <th>language</th>\n",
              "    </tr>\n",
              "  </thead>\n",
              "  <tbody>\n",
              "    <tr>\n",
              "      <th>Afrikaans</th>\n",
              "      <td>af</td>\n",
              "    </tr>\n",
              "    <tr>\n",
              "      <th>Arabic</th>\n",
              "      <td>ar</td>\n",
              "    </tr>\n",
              "    <tr>\n",
              "      <th>Azerbaijani</th>\n",
              "      <td>az</td>\n",
              "    </tr>\n",
              "    <tr>\n",
              "      <th>Bashkir</th>\n",
              "      <td>ba</td>\n",
              "    </tr>\n",
              "    <tr>\n",
              "      <th>Belarusian</th>\n",
              "      <td>be</td>\n",
              "    </tr>\n",
              "    <tr>\n",
              "      <th>...</th>\n",
              "      <td>...</td>\n",
              "    </tr>\n",
              "    <tr>\n",
              "      <th>Ukrainian</th>\n",
              "      <td>uk</td>\n",
              "    </tr>\n",
              "    <tr>\n",
              "      <th>Urdu</th>\n",
              "      <td>ur</td>\n",
              "    </tr>\n",
              "    <tr>\n",
              "      <th>Vietnamese</th>\n",
              "      <td>vi</td>\n",
              "    </tr>\n",
              "    <tr>\n",
              "      <th>Simplified Chinese</th>\n",
              "      <td>zh</td>\n",
              "    </tr>\n",
              "    <tr>\n",
              "      <th>Traditional Chinese</th>\n",
              "      <td>zh-TW</td>\n",
              "    </tr>\n",
              "  </tbody>\n",
              "</table>\n",
              "<p>76 rows × 1 columns</p>\n",
              "</div>\n",
              "      <button class=\"colab-df-convert\" onclick=\"convertToInteractive('df-22947eb4-8260-49b9-9fb7-f0b9b4631056')\"\n",
              "              title=\"Convert this dataframe to an interactive table.\"\n",
              "              style=\"display:none;\">\n",
              "        \n",
              "  <svg xmlns=\"http://www.w3.org/2000/svg\" height=\"24px\"viewBox=\"0 0 24 24\"\n",
              "       width=\"24px\">\n",
              "    <path d=\"M0 0h24v24H0V0z\" fill=\"none\"/>\n",
              "    <path d=\"M18.56 5.44l.94 2.06.94-2.06 2.06-.94-2.06-.94-.94-2.06-.94 2.06-2.06.94zm-11 1L8.5 8.5l.94-2.06 2.06-.94-2.06-.94L8.5 2.5l-.94 2.06-2.06.94zm10 10l.94 2.06.94-2.06 2.06-.94-2.06-.94-.94-2.06-.94 2.06-2.06.94z\"/><path d=\"M17.41 7.96l-1.37-1.37c-.4-.4-.92-.59-1.43-.59-.52 0-1.04.2-1.43.59L10.3 9.45l-7.72 7.72c-.78.78-.78 2.05 0 2.83L4 21.41c.39.39.9.59 1.41.59.51 0 1.02-.2 1.41-.59l7.78-7.78 2.81-2.81c.8-.78.8-2.07 0-2.86zM5.41 20L4 18.59l7.72-7.72 1.47 1.35L5.41 20z\"/>\n",
              "  </svg>\n",
              "      </button>\n",
              "      \n",
              "  <style>\n",
              "    .colab-df-container {\n",
              "      display:flex;\n",
              "      flex-wrap:wrap;\n",
              "      gap: 12px;\n",
              "    }\n",
              "\n",
              "    .colab-df-convert {\n",
              "      background-color: #E8F0FE;\n",
              "      border: none;\n",
              "      border-radius: 50%;\n",
              "      cursor: pointer;\n",
              "      display: none;\n",
              "      fill: #1967D2;\n",
              "      height: 32px;\n",
              "      padding: 0 0 0 0;\n",
              "      width: 32px;\n",
              "    }\n",
              "\n",
              "    .colab-df-convert:hover {\n",
              "      background-color: #E2EBFA;\n",
              "      box-shadow: 0px 1px 2px rgba(60, 64, 67, 0.3), 0px 1px 3px 1px rgba(60, 64, 67, 0.15);\n",
              "      fill: #174EA6;\n",
              "    }\n",
              "\n",
              "    [theme=dark] .colab-df-convert {\n",
              "      background-color: #3B4455;\n",
              "      fill: #D2E3FC;\n",
              "    }\n",
              "\n",
              "    [theme=dark] .colab-df-convert:hover {\n",
              "      background-color: #434B5C;\n",
              "      box-shadow: 0px 1px 3px 1px rgba(0, 0, 0, 0.15);\n",
              "      filter: drop-shadow(0px 1px 2px rgba(0, 0, 0, 0.3));\n",
              "      fill: #FFFFFF;\n",
              "    }\n",
              "  </style>\n",
              "\n",
              "      <script>\n",
              "        const buttonEl =\n",
              "          document.querySelector('#df-22947eb4-8260-49b9-9fb7-f0b9b4631056 button.colab-df-convert');\n",
              "        buttonEl.style.display =\n",
              "          google.colab.kernel.accessAllowed ? 'block' : 'none';\n",
              "\n",
              "        async function convertToInteractive(key) {\n",
              "          const element = document.querySelector('#df-22947eb4-8260-49b9-9fb7-f0b9b4631056');\n",
              "          const dataTable =\n",
              "            await google.colab.kernel.invokeFunction('convertToInteractive',\n",
              "                                                     [key], {});\n",
              "          if (!dataTable) return;\n",
              "\n",
              "          const docLinkHtml = 'Like what you see? Visit the ' +\n",
              "            '<a target=\"_blank\" href=https://colab.research.google.com/notebooks/data_table.ipynb>data table notebook</a>'\n",
              "            + ' to learn more about interactive tables.';\n",
              "          element.innerHTML = '';\n",
              "          dataTable['output_type'] = 'display_data';\n",
              "          await google.colab.output.renderOutput(dataTable, element);\n",
              "          const docLink = document.createElement('div');\n",
              "          docLink.innerHTML = docLinkHtml;\n",
              "          element.appendChild(docLink);\n",
              "        }\n",
              "      </script>\n",
              "    </div>\n",
              "  </div>\n",
              "  "
            ],
            "text/plain": [
              "                    language\n",
              "Afrikaans                 af\n",
              "Arabic                    ar\n",
              "Azerbaijani               az\n",
              "Bashkir                   ba\n",
              "Belarusian                be\n",
              "...                      ...\n",
              "Ukrainian                 uk\n",
              "Urdu                      ur\n",
              "Vietnamese                vi\n",
              "Simplified Chinese        zh\n",
              "Traditional Chinese    zh-TW\n",
              "\n",
              "[76 rows x 1 columns]"
            ]
          },
          "metadata": {},
          "execution_count": 10
        }
      ]
    },
    {
      "cell_type": "code",
      "metadata": {
        "colab": {
          "base_uri": "https://localhost:8080/"
        },
        "id": "YCtN_cfTrj-F",
        "outputId": "53789e81-6514-44f6-eace-0356551a29e5"
      },
      "source": [
        "print('Insert your input language')\n",
        "i = input(\"\")\n",
        "i = language.loc[i,:]\n",
        "print(\"Insert your output langugae\")\n",
        "o = input(\"\")\n",
        "o = language.loc[o,:]\n",
        "model_id = \"%s-%s\"%(i[0],o[0])\n",
        "print(\"There are 3 choices for translation:\\n\",\n",
        "      \"1. Typing a content\\n\",\n",
        "      \"2. Drop a path file you have\\n\",\n",
        "      \"3. Translate from voice text\\n\",\n",
        "      \"Type the number 1 or 2 or 3 to choose\")\n",
        "content = input(\"\")\n",
        "if content == \"1\":\n",
        "  text_to_translate = input(\"Your content you want translate here\")\n",
        "  text = '%s'%text_to_translate\n",
        "elif content == \"2\":\n",
        "  text = input(\"Drop a path of your file\")\n",
        "  t = '%s'%text\n",
        "  with open(t) as f:\n",
        "    text = f.read()\n",
        "elif content == \"3\":\n",
        "  t = []\n",
        "  for f in res['results']:\n",
        "    texts = f['alternatives'][0]['transcript']\n",
        "    t.append(texts)\n",
        "  text = ' '.join(t)\n",
        "# Translate\n",
        "translation = language_translator.translate(\n",
        "    text=text,\n",
        "    model_id=model_id).get_result()\n",
        "tran = translation['translations'][0]['translation']\n",
        "print(tran)"
      ],
      "execution_count": 11,
      "outputs": [
        {
          "output_type": "stream",
          "name": "stdout",
          "text": [
            "Insert your input language\n",
            "English\n",
            "Insert your output langugae\n",
            "Vietnamese\n",
            "There are 3 choices for translation:\n",
            " 1. Typing a content\n",
            " 2. Drop a path file you have\n",
            " 3. Translate from voice text\n",
            " Type the number 1 or 2 or 3 to choose\n",
            "3\n",
            "Khi bạn nghĩ về việc gọi tôi ước rằng đó là điều kỳ lạ nhất mà bạn có thể nghĩ đến vì bê tông là một thứ bạn đi đến một đất nước khác bạn muốn có thêm những gì bạn biết là bạn lấy những nguồn tài nguyên mà tôi hiểu nhưng thực dân tôi hiểu là tôi không hiểu vì bạn đến đó và bạn không chỉ nhận trách nhiệm những người đó là một khái niệm kỳ lạ khi bạn nghĩ về nơi mà người Anh làm điều đó là tôi và tôi đã không làm và ở Châu Phi họ biết họ đã làm điều đó ở Châu Á và Ấn Độ. Nhưng tôi không biết cây cầu đang ở đâu chỉ cần quyết định nó là gì trong ngày hôm qua và tôi rất vui vì tôi có thể nói với các bạn rằng trong đó chính xác là những gì tôi có thể nói với các bạn rằng tôi không phải là tất cả những gì tôi đang nói Tôi không phải là tất cả những gì tôi đang nói Tôi không phải là tất cả những gì tôi đang nói rằng tôi không phải là vị hoàng hậu chúng tôi đang chờ đợi Hoàng hậu của Vương quốc Anh \"Cầu do dự tuyệt vời\" sau đó, cô ấy muốn các vị thần của tôi có thể có một con chó mà nhiều người gọi là tên của con chó của tôi là tên của con chó của tôi chỉ có một cuộc gọi và tên của anh ấy đã mất và bạn muốn tôi tôn thờ Chúa nhưng bạn không muốn tôi tôn thờ Chúa nhưng bạn không muốn tôi tôn thờ Chúa nhưng bạn lại không muốn tôi tôn thờ Chúa nhưng bạn không muốn nói với tôi cái gì đó chỉ đơn giản là gọi tôi là mẹ hoặc bố bạn muốn tôi dạy nhưng bạn không muốn tôi dạy tôi nhưng bạn không muốn tôi lên lớp chào ngày hôm nay Tôi sẽ làm gì mỗi buổi sáng Bảo vệ người bảo hộ, nhưng tôi hy vọng anh có thể không có sự hối tiếc, không có điều gì là không sai nhưng điều tôi muốn nói với những người khác, tôi muốn nói với những người khác, tôi muốn nói với những người khác, không có lẽ là không có Chúa, nhưng tôi đã nói với tôi là anh sẽ biết chuyện gì và tôi không biết là tôi không làm được điều anh muốn nói với tôi như thể anh không bao giờ tự giới thiệu mình tôi đã đến đây đại diện cho Vương quốc Anh và tôi chưa bao giờ nâng cấp Anh, chúng tôi sẽ không cho anh biết cái tên  Dù sao chúng ta cũng có thể Guardia nghe có vẻ tuyệt vời không phải là một kẻ kiêu ngạo mà Susan làm bạn đọc để có thể nói cho bạn biết bạn đã tuyệt vời như thế nào khi bạn đang làm việc và làm những điều tốt đẹp, tốt đẹp những điều tốt đẹp và mọi người đi với họ bởi vì chúng tôi có thể làm điều đó bởi vì chúng tôi có thể làm điều đó bởi vì chúng tôi có thể làm điều đó bởi vì chúng tôi biết rằng chúng tôi có thể làm được điều đó bởi vì chúng tôi biết theo bản năng mà chúng tôi có thể làm được điều đó bởi vì chúng tôi đã biết theo bản năng và điều đó lại được hoan nghênh đến NDS không có tác dụng như vậy. Tất cả những gì tôi biết các bạn là những gì tôi biết là không đúng và tôi không muốn nói gì cả nhưng bạn trông như đang đi đến bạn bè trong thực tế, có vẻ như bạn đã chết trong tuần trước. Có thứ gì đó mà tôi không cần một cái máy sim tôi chỉ cần nói về vấn đề này bạn sẽ nhận được đơn đặt hàng không bởi vì bạn không mất điều đó là tất cả những gì tôi biết là chúng tôi sẽ không làm bất cứ điều gì bạn có trên cái giếng điên khùng của bạn và chúng tôi sẽ không phải là tất cả những gì bạn có và chúng tôi sẽ là của bạn nó không phải là cảm ơn chúa cám ơn vì đã xem tất cả để đăng ký kênh của tôi để bạn có thể giành giải thưởng và giá của tôi không gây ngạc nhiên vì nó là một video trên YouTube miễn phí bạn tham lam chỉ cần click vào video người đàn ông miễn phí mọi thứ trên mọi thứ \n"
          ]
        }
      ]
    },
    {
      "cell_type": "code",
      "metadata": {
        "id": "oVTiUFAK1Fs4"
      },
      "source": [
        ""
      ],
      "execution_count": null,
      "outputs": []
    }
  ]
}